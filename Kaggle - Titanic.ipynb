{
 "cells": [
  {
   "cell_type": "markdown",
   "metadata": {
    "id": "RFlRa1KUM1Qz"
   },
   "source": [
    "# Predicting Survivors on the Titanic\n",
    "Accuracy is the evaluation metric"
   ]
  },
  {
   "cell_type": "code",
   "execution_count": 1,
   "metadata": {
    "executionInfo": {
     "elapsed": 5,
     "status": "ok",
     "timestamp": 1642628811172,
     "user": {
      "displayName": "Marchiano Oh",
      "photoUrl": "https://lh3.googleusercontent.com/a/default-user=s64",
      "userId": "08032254560373591178"
     },
     "user_tz": 300
    },
    "id": "aIjrjMf9KXoL"
   },
   "outputs": [],
   "source": [
    "import numpy as np\n",
    "import pandas as pd\n",
    "\n",
    "import warnings \n",
    "warnings.filterwarnings('ignore')"
   ]
  },
  {
   "cell_type": "code",
   "execution_count": 2,
   "metadata": {
    "executionInfo": {
     "elapsed": 1892,
     "status": "ok",
     "timestamp": 1642629033180,
     "user": {
      "displayName": "Marchiano Oh",
      "photoUrl": "https://lh3.googleusercontent.com/a/default-user=s64",
      "userId": "08032254560373591178"
     },
     "user_tz": 300
    },
    "id": "MN4BhQyALE9V"
   },
   "outputs": [],
   "source": [
    "# Read data files\n",
    "df_train = pd.read_csv('train.csv')\n",
    "df_test = pd.read_csv('test.csv')"
   ]
  },
  {
   "cell_type": "code",
   "execution_count": 3,
   "metadata": {
    "colab": {
     "base_uri": "https://localhost:8080/"
    },
    "executionInfo": {
     "elapsed": 144,
     "status": "ok",
     "timestamp": 1642629038276,
     "user": {
      "displayName": "Marchiano Oh",
      "photoUrl": "https://lh3.googleusercontent.com/a/default-user=s64",
      "userId": "08032254560373591178"
     },
     "user_tz": 300
    },
    "id": "rJOTYc4ALE_v",
    "outputId": "f09afbf1-7b38-46d6-d493-a80c11f4a9a8"
   },
   "outputs": [
    {
     "name": "stdout",
     "output_type": "stream",
     "text": [
      "<class 'pandas.core.frame.DataFrame'>\n",
      "RangeIndex: 891 entries, 0 to 890\n",
      "Data columns (total 12 columns):\n",
      " #   Column       Non-Null Count  Dtype  \n",
      "---  ------       --------------  -----  \n",
      " 0   PassengerId  891 non-null    int64  \n",
      " 1   Survived     891 non-null    int64  \n",
      " 2   Pclass       891 non-null    int64  \n",
      " 3   Name         891 non-null    object \n",
      " 4   Sex          891 non-null    object \n",
      " 5   Age          714 non-null    float64\n",
      " 6   SibSp        891 non-null    int64  \n",
      " 7   Parch        891 non-null    int64  \n",
      " 8   Ticket       891 non-null    object \n",
      " 9   Fare         891 non-null    float64\n",
      " 10  Cabin        204 non-null    object \n",
      " 11  Embarked     889 non-null    object \n",
      "dtypes: float64(2), int64(5), object(5)\n",
      "memory usage: 83.7+ KB\n"
     ]
    }
   ],
   "source": [
    "df_train.info()"
   ]
  },
  {
   "cell_type": "code",
   "execution_count": 4,
   "metadata": {
    "colab": {
     "base_uri": "https://localhost:8080/"
    },
    "executionInfo": {
     "elapsed": 172,
     "status": "ok",
     "timestamp": 1642629040847,
     "user": {
      "displayName": "Marchiano Oh",
      "photoUrl": "https://lh3.googleusercontent.com/a/default-user=s64",
      "userId": "08032254560373591178"
     },
     "user_tz": 300
    },
    "id": "MIUB8cXVLFCk",
    "outputId": "c5665f61-525e-4f76-f8cd-b26913201148"
   },
   "outputs": [
    {
     "name": "stdout",
     "output_type": "stream",
     "text": [
      "<class 'pandas.core.frame.DataFrame'>\n",
      "RangeIndex: 418 entries, 0 to 417\n",
      "Data columns (total 11 columns):\n",
      " #   Column       Non-Null Count  Dtype  \n",
      "---  ------       --------------  -----  \n",
      " 0   PassengerId  418 non-null    int64  \n",
      " 1   Pclass       418 non-null    int64  \n",
      " 2   Name         418 non-null    object \n",
      " 3   Sex          418 non-null    object \n",
      " 4   Age          332 non-null    float64\n",
      " 5   SibSp        418 non-null    int64  \n",
      " 6   Parch        418 non-null    int64  \n",
      " 7   Ticket       418 non-null    object \n",
      " 8   Fare         417 non-null    float64\n",
      " 9   Cabin        91 non-null     object \n",
      " 10  Embarked     418 non-null    object \n",
      "dtypes: float64(2), int64(4), object(5)\n",
      "memory usage: 36.0+ KB\n"
     ]
    }
   ],
   "source": [
    "df_test.info()"
   ]
  },
  {
   "cell_type": "code",
   "execution_count": 5,
   "metadata": {
    "executionInfo": {
     "elapsed": 808,
     "status": "ok",
     "timestamp": 1642629160008,
     "user": {
      "displayName": "Marchiano Oh",
      "photoUrl": "https://lh3.googleusercontent.com/a/default-user=s64",
      "userId": "08032254560373591178"
     },
     "user_tz": 300
    },
    "id": "AgFR6OJsLFJE"
   },
   "outputs": [],
   "source": [
    "# Split training data\n",
    "from sklearn.model_selection import train_test_split\n",
    "\n",
    "X = df_train.drop(columns=['PassengerId', 'Survived'])\n",
    "y = df_train['Survived']\n",
    "\n",
    "X_train, X_test, y_train, y_test = train_test_split(X, y, test_size=0.2, random_state=42)"
   ]
  },
  {
   "cell_type": "markdown",
   "metadata": {
    "id": "VdHpy89QMyKF"
   },
   "source": [
    "## Data Wrangling"
   ]
  },
  {
   "cell_type": "markdown",
   "metadata": {
    "id": "IxzSn-oCV3mu"
   },
   "source": [
    "### Check Feature Cardinality"
   ]
  },
  {
   "cell_type": "code",
   "execution_count": 6,
   "metadata": {
    "colab": {
     "base_uri": "https://localhost:8080/"
    },
    "executionInfo": {
     "elapsed": 127,
     "status": "ok",
     "timestamp": 1642629665035,
     "user": {
      "displayName": "Marchiano Oh",
      "photoUrl": "https://lh3.googleusercontent.com/a/default-user=s64",
      "userId": "08032254560373591178"
     },
     "user_tz": 300
    },
    "id": "iWfIyyZtV6qj",
    "outputId": "9424bb4d-03ef-4c35-d41b-ac239af36190"
   },
   "outputs": [
    {
     "data": {
      "text/plain": [
       "Name      891\n",
       "Ticket    681\n",
       "Cabin     147\n",
       "dtype: int64"
      ]
     },
     "execution_count": 6,
     "metadata": {},
     "output_type": "execute_result"
    }
   ],
   "source": [
    "df_train[['Name', 'Ticket', 'Cabin']].nunique()"
   ]
  },
  {
   "cell_type": "markdown",
   "metadata": {
    "id": "2QcZ05TvXBeE"
   },
   "source": [
    "Drop ***Name*** feature because it has all unique values and drop ***Cabin*** feature since it has too many missing values"
   ]
  },
  {
   "cell_type": "code",
   "execution_count": 7,
   "metadata": {
    "id": "-CISTOsxYmtR"
   },
   "outputs": [],
   "source": [
    "features_to_drop = ['Name', 'Cabin']"
   ]
  },
  {
   "cell_type": "markdown",
   "metadata": {
    "id": "l_ejBdKZQ4Ls"
   },
   "source": [
    "### Imputing Missing Values and Categorical Feature Encoding"
   ]
  },
  {
   "cell_type": "code",
   "execution_count": 8,
   "metadata": {
    "id": "7xshtsw1Mvgo"
   },
   "outputs": [],
   "source": [
    "from sklearn.impute import SimpleImputer, KNNImputer\n",
    "from sklearn.preprocessing import OneHotEncoder\n",
    "from category_encoders.target_encoder import TargetEncoder\n",
    "from sklearn.pipeline import Pipeline, make_pipeline"
   ]
  },
  {
   "cell_type": "code",
   "execution_count": 9,
   "metadata": {},
   "outputs": [],
   "source": [
    "embarked_pipe = Pipeline([('simpleimputer', SimpleImputer(strategy='most_frequent')),\n",
    "                          ('targetencoder', TargetEncoder())])"
   ]
  },
  {
   "cell_type": "code",
   "execution_count": 10,
   "metadata": {},
   "outputs": [],
   "source": [
    "# Make preprocessing transformer with drop, imputer, and encoder steps\n",
    "from sklearn.compose import ColumnTransformer, make_column_transformer\n",
    "\n",
    "preprocessing_transformer = ColumnTransformer(\n",
    "                                transformers=[\n",
    "                                    ('dropcolumns', 'drop', features_to_drop),\n",
    "                                    ('agefare', SimpleImputer(strategy='mean'), ['Age', 'Fare']),\n",
    "                                    ('ticket', TargetEncoder(), ['Sex', 'Ticket']),\n",
    "                                    ('embarked', embarked_pipe, ['Embarked'])],\n",
    "                                    remainder='passthrough')"
   ]
  },
  {
   "cell_type": "markdown",
   "metadata": {},
   "source": [
    "## Train Model and Cross-Validate"
   ]
  },
  {
   "cell_type": "code",
   "execution_count": 15,
   "metadata": {},
   "outputs": [],
   "source": [
    "from catboost import CatBoostClassifier\n",
    "\n",
    "catboost_pipe = make_pipeline(preprocessing_transformer,\n",
    "                              CatBoostClassifier(random_seed=42, verbose=False))"
   ]
  },
  {
   "cell_type": "code",
   "execution_count": 17,
   "metadata": {},
   "outputs": [
    {
     "name": "stdout",
     "output_type": "stream",
     "text": [
      "Scores: [0.8112, 0.8322, 0.8028, 0.8169, 0.8521] \n",
      "\n",
      "Mean: 0.8230\n",
      "Std. Dev: 0.0174\n",
      "+/-2 std. dev. range within mean: (0.7882, 0.8579)\n"
     ]
    }
   ],
   "source": [
    "from sklearn.model_selection import cross_val_score\n",
    "\n",
    "cv_scores = cross_val_score(catboost_pipe, X_train, y_train, scoring='accuracy', cv=5)\n",
    "\n",
    "# Calculate mean and standard deviation of scores\n",
    "avg = cv_scores.mean()\n",
    "stddev = cv_scores.std()\n",
    "\n",
    "# Print results\n",
    "print(\"Scores:\", [round(score, 4) for score in cv_scores], '\\n')\n",
    "print(f\"Mean: {avg:.4f}\")\n",
    "print(f\"Std. Dev: {stddev:.4f}\")\n",
    "print(f\"+/-2 std. dev. range within mean: ({avg - 2*stddev:.4f}, {avg + 2*stddev:.4f})\")"
   ]
  },
  {
   "cell_type": "markdown",
   "metadata": {},
   "source": [
    "## Evaluate Performance on X_test"
   ]
  },
  {
   "cell_type": "code",
   "execution_count": 18,
   "metadata": {},
   "outputs": [
    {
     "name": "stdout",
     "output_type": "stream",
     "text": [
      "              precision    recall  f1-score   support\n",
      "\n",
      "           0       0.82      0.90      0.85       105\n",
      "           1       0.83      0.72      0.77        74\n",
      "\n",
      "    accuracy                           0.82       179\n",
      "   macro avg       0.82      0.81      0.81       179\n",
      "weighted avg       0.82      0.82      0.82       179\n",
      "\n"
     ]
    }
   ],
   "source": [
    "from sklearn.metrics import classification_report\n",
    "\n",
    "catboost_pipe.fit(X_train, y_train)\n",
    "y_pred = catboost_pipe.predict(X_test)\n",
    "\n",
    "print(classification_report(y_test, y_pred))"
   ]
  },
  {
   "cell_type": "markdown",
   "metadata": {},
   "source": [
    "## Feature Selection"
   ]
  },
  {
   "cell_type": "code",
   "execution_count": 19,
   "metadata": {},
   "outputs": [],
   "source": [
    "# Use RFE to identify the most relevant features\n",
    "from sklearn.feature_selection import RFE"
   ]
  },
  {
   "cell_type": "code",
   "execution_count": 20,
   "metadata": {},
   "outputs": [],
   "source": [
    "catboost_clf = CatBoostClassifier(random_seed=42, verbose=False)\n",
    "\n",
    "rfe_catboost_pipe = make_pipeline(preprocessing_transformer,\n",
    "                              RFE(estimator=catboost_clf, n_features_to_select=4),\n",
    "                              catboost_clf)"
   ]
  },
  {
   "cell_type": "code",
   "execution_count": 21,
   "metadata": {},
   "outputs": [
    {
     "name": "stdout",
     "output_type": "stream",
     "text": [
      "Scores: [0.8182, 0.8392, 0.8099, 0.8169, 0.831] \n",
      "\n",
      "Mean: 0.8230\n",
      "Std. Dev: 0.0106\n",
      "+/-2 std. dev. range within mean: (0.8019, 0.8441)\n"
     ]
    }
   ],
   "source": [
    "# Cross-validate with pipeline that has RFE\n",
    "cv_scores = cross_val_score(rfe_catboost_pipe, X_train, y_train, scoring='accuracy', cv=5)\n",
    "\n",
    "# Calculate mean and standard deviation of scores\n",
    "avg = cv_scores.mean()\n",
    "stddev = cv_scores.std()\n",
    "\n",
    "# Print results\n",
    "print(\"Scores:\", [round(score, 4) for score in cv_scores], '\\n')\n",
    "print(f\"Mean: {avg:.4f}\")\n",
    "print(f\"Std. Dev: {stddev:.4f}\")\n",
    "print(f\"+/-2 std. dev. range within mean: ({avg - 2*stddev:.4f}, {avg + 2*stddev:.4f})\")"
   ]
  },
  {
   "cell_type": "markdown",
   "metadata": {},
   "source": [
    "## Evaluate Performance with RFE on X_test"
   ]
  },
  {
   "cell_type": "code",
   "execution_count": 26,
   "metadata": {},
   "outputs": [
    {
     "name": "stdout",
     "output_type": "stream",
     "text": [
      "              precision    recall  f1-score   support\n",
      "\n",
      "           0       0.81      0.88      0.84       105\n",
      "           1       0.80      0.70      0.75        74\n",
      "\n",
      "    accuracy                           0.80       179\n",
      "   macro avg       0.80      0.79      0.79       179\n",
      "weighted avg       0.80      0.80      0.80       179\n",
      "\n"
     ]
    }
   ],
   "source": [
    "rfe_catboost_pipe.fit(X_train, y_train)\n",
    "y_pred = rfe_catboost_pipe.predict(X_test)\n",
    "\n",
    "print(classification_report(y_test, y_pred))"
   ]
  },
  {
   "cell_type": "markdown",
   "metadata": {},
   "source": [
    "## Hyperparameter Tuning"
   ]
  },
  {
   "cell_type": "code",
   "execution_count": 27,
   "metadata": {},
   "outputs": [],
   "source": [
    "from sklearn.model_selection import RandomizedSearchCV\n",
    "from scipy.stats import uniform, randint"
   ]
  },
  {
   "cell_type": "code",
   "execution_count": 30,
   "metadata": {},
   "outputs": [
    {
     "data": {
      "text/plain": [
       "Pipeline(steps=[('columntransformer',\n",
       "                 ColumnTransformer(remainder='passthrough',\n",
       "                                   transformers=[('dropcolumns', 'drop',\n",
       "                                                  ['Name', 'Cabin']),\n",
       "                                                 ('agefare', SimpleImputer(),\n",
       "                                                  ['Age', 'Fare']),\n",
       "                                                 ('ticket', TargetEncoder(),\n",
       "                                                  ['Sex', 'Ticket']),\n",
       "                                                 ('embarked',\n",
       "                                                  Pipeline(steps=[('simpleimputer',\n",
       "                                                                   SimpleImputer(strategy='most_frequent')),\n",
       "                                                                  ('targetencoder',\n",
       "                                                                   TargetEncoder())]),\n",
       "                                                  ['Embarked'])])),\n",
       "                ('rfe',\n",
       "                 RFE(estimator=<catboost.core.CatBoostClassifier object at 0x0000017463E3AA30>)),\n",
       "                ('catboostclassifier',\n",
       "                 <catboost.core.CatBoostClassifier object at 0x0000017463E3AA30>)])"
      ]
     },
     "execution_count": 30,
     "metadata": {},
     "output_type": "execute_result"
    }
   ],
   "source": [
    "tuning_catboost_pipe = make_pipeline(preprocessing_transformer,\n",
    "                              RFE(estimator=catboost_clf),\n",
    "                              catboost_clf)\n",
    "\n",
    "tuning_catboost_pipe"
   ]
  },
  {
   "cell_type": "code",
   "execution_count": 31,
   "metadata": {},
   "outputs": [],
   "source": [
    "rs_params = {'rfe__n_features_to_select': uniform(0.0, 1.0),\n",
    "            'catboostclassifier__l2_leaf_reg': uniform(0.001, 10),\n",
    "            'catboostclassifier__learning_rate': uniform(0.01, 1.0),\n",
    "            'catboostclassifier__depth': randint(1, 11),\n",
    "            'catboostclassifier__max_leaves': randint(1, 100)}"
   ]
  },
  {
   "cell_type": "code",
   "execution_count": 32,
   "metadata": {},
   "outputs": [
    {
     "data": {
      "text/plain": [
       "RandomizedSearchCV(cv=5,\n",
       "                   estimator=Pipeline(steps=[('columntransformer',\n",
       "                                              ColumnTransformer(remainder='passthrough',\n",
       "                                                                transformers=[('dropcolumns',\n",
       "                                                                               'drop',\n",
       "                                                                               ['Name',\n",
       "                                                                                'Cabin']),\n",
       "                                                                              ('agefare',\n",
       "                                                                               SimpleImputer(),\n",
       "                                                                               ['Age',\n",
       "                                                                                'Fare']),\n",
       "                                                                              ('ticket',\n",
       "                                                                               TargetEncoder(),\n",
       "                                                                               ['Sex',\n",
       "                                                                                'Ticket']),\n",
       "                                                                              ('embarked',\n",
       "                                                                               Pipeline(steps=[('simpleimputer',\n",
       "                                                                                                SimpleImputer(strategy='most_frequent')),\n",
       "                                                                                               ('targeten...\n",
       "                                        'catboostclassifier__learning_rate': <scipy.stats._distn_infrastructure.rv_frozen object at 0x0000017463FDA820>,\n",
       "                                        'catboostclassifier__max_leaves': <scipy.stats._distn_infrastructure.rv_frozen object at 0x0000017463E96B80>,\n",
       "                                        'rfe__n_features_to_select': <scipy.stats._distn_infrastructure.rv_frozen object at 0x0000017463FB8850>},\n",
       "                   return_train_score=True, scoring='f1_macro')"
      ]
     },
     "execution_count": 32,
     "metadata": {},
     "output_type": "execute_result"
    }
   ],
   "source": [
    "catboost_rs = RandomizedSearchCV(tuning_catboost_pipe, param_distributions=rs_params, n_iter=100, \n",
    "                                 scoring='f1_macro', cv=5, n_jobs=-1, return_train_score=True)\n",
    "\n",
    "catboost_rs.fit(X_train, y_train)"
   ]
  },
  {
   "cell_type": "code",
   "execution_count": 33,
   "metadata": {},
   "outputs": [
    {
     "name": "stdout",
     "output_type": "stream",
     "text": [
      "Best Hyperparameters: {'catboostclassifier__depth': 6, 'catboostclassifier__l2_leaf_reg': 0.8727605161677455, 'catboostclassifier__learning_rate': 0.4633474498674284, 'catboostclassifier__max_leaves': 64, 'rfe__n_features_to_select': 0.9991170658241365}'\n",
      "'\n",
      "Best Mean Score: 0.7896\n",
      "Best Mean Std. Dev.: 0.0226\n",
      "+/-2 std. dev. range within mean: (0.7443, 0.8348)\n"
     ]
    }
   ],
   "source": [
    "avg = catboost_rs.best_score_\n",
    "stddev = catboost_rs.cv_results_['std_test_score'][catboost_rs.best_index_]\n",
    "\n",
    "print(f\"Best Hyperparameters: {catboost_rs.best_params_}'\\n'\")\n",
    "print(f\"Best Mean Score: {avg:.4f}\")\n",
    "print(f\"Best Mean Std. Dev.: {stddev:.4f}\")\n",
    "print(f\"+/-2 std. dev. range within mean: ({avg - 2*stddev:.4f}, {avg + 2*stddev:.4f})\")"
   ]
  },
  {
   "cell_type": "markdown",
   "metadata": {},
   "source": [
    "## Retrain with Entire Training Set"
   ]
  },
  {
   "cell_type": "code",
   "execution_count": 35,
   "metadata": {},
   "outputs": [
    {
     "data": {
      "text/plain": [
       "RandomizedSearchCV(cv=5,\n",
       "                   estimator=Pipeline(steps=[('columntransformer',\n",
       "                                              ColumnTransformer(remainder='passthrough',\n",
       "                                                                transformers=[('dropcolumns',\n",
       "                                                                               'drop',\n",
       "                                                                               ['Name',\n",
       "                                                                                'Cabin']),\n",
       "                                                                              ('agefare',\n",
       "                                                                               SimpleImputer(),\n",
       "                                                                               ['Age',\n",
       "                                                                                'Fare']),\n",
       "                                                                              ('ticket',\n",
       "                                                                               TargetEncoder(),\n",
       "                                                                               ['Sex',\n",
       "                                                                                'Ticket']),\n",
       "                                                                              ('embarked',\n",
       "                                                                               Pipeline(steps=[('simpleimputer',\n",
       "                                                                                                SimpleImputer(strategy='most_frequent')),\n",
       "                                                                                               ('targeten...\n",
       "                                        'catboostclassifier__learning_rate': <scipy.stats._distn_infrastructure.rv_frozen object at 0x0000017463FDA820>,\n",
       "                                        'catboostclassifier__max_leaves': <scipy.stats._distn_infrastructure.rv_frozen object at 0x0000017463E96B80>,\n",
       "                                        'rfe__n_features_to_select': <scipy.stats._distn_infrastructure.rv_frozen object at 0x0000017463FB8850>},\n",
       "                   return_train_score=True, scoring='f1_macro')"
      ]
     },
     "execution_count": 35,
     "metadata": {},
     "output_type": "execute_result"
    }
   ],
   "source": [
    "catboost_rs.fit(X, y)"
   ]
  },
  {
   "cell_type": "markdown",
   "metadata": {},
   "source": [
    "## Kaggle Submission"
   ]
  },
  {
   "cell_type": "code",
   "execution_count": 36,
   "metadata": {},
   "outputs": [],
   "source": [
    "submission_preds = catboost_rs.predict(df_test.drop(columns='PassengerId'))\n",
    "pd.DataFrame({'PassengerId': df_test.PassengerId, 'Survived': submission_preds}).to_csv('titanic_submission.csv', index=False)"
   ]
  }
 ],
 "metadata": {
  "colab": {
   "authorship_tag": "ABX9TyMBynnG6qiHdfo0gZLiHcLF",
   "name": "Untitled0.ipynb",
   "provenance": []
  },
  "kernelspec": {
   "display_name": "Python 3 (ipykernel)",
   "language": "python",
   "name": "python3"
  },
  "language_info": {
   "codemirror_mode": {
    "name": "ipython",
    "version": 3
   },
   "file_extension": ".py",
   "mimetype": "text/x-python",
   "name": "python",
   "nbconvert_exporter": "python",
   "pygments_lexer": "ipython3",
   "version": "3.8.8"
  }
 },
 "nbformat": 4,
 "nbformat_minor": 1
}
